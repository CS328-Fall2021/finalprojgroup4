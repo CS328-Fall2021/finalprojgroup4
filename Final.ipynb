{
 "cells": [
  {
   "cell_type": "code",
   "execution_count": null,
   "id": "97ac1ed1",
   "metadata": {},
   "outputs": [],
   "source": [
    "import glob\n",
    "import matplotlib.pyplot\n",
    "import matplotlib\n",
    "import sys\n",
    "import time\n",
    "import math\n",
    "import numpy as np\n",
    "import pandas as pd\n",
    "from scipy import signal\n",
    "import matplotlib.pyplot as plt\n",
    "from scipy.signal import butter, lfilter, freqz, iirnotch, filtfilt, firwin, argrelextrema\n",
    "\n",
    "# enable zooming into graphs\n",
    "%matplotlib notebook\n",
    "matplotlib.rcParams['figure.figsize'] = (10, 5)\n",
    "\n",
    "def pull_data(dir_name, file_name, separator=';'):\n",
    "    f = open(dir_name + '/' + file_name + '.csv')\n",
    "    xs = []\n",
    "    ys = []\n",
    "    zs = []\n",
    "    rs = []\n",
    "    timestamps = []\n",
    "    f.readline() # ignore separator declaration\n",
    "    f.readline() # ignore header\n",
    "    for line in f:\n",
    "        value = line.split(separator)\n",
    "        if len(value) > 3:\n",
    "            t=value[3].strip()\n",
    "            timestamps.append(t)\n",
    "            x = float(value[0])\n",
    "            y = float(value[1])\n",
    "            z = float(value[2])\n",
    "            r = math.sqrt(x ** 2 + y ** 2 + z ** 2)\n",
    "            xs.append(x)\n",
    "            ys.append(y)\n",
    "            zs.append(z)\n",
    "            rs.append(r)\n",
    "    return np.array(xs), np.array(ys), np.array(zs), np.array(rs), np.array(timestamps)\n",
    "\n",
    "bl_raw_data = pull_data('data', 'Backhand25HSB')\n",
    "(bl_accel_x, bl_accel_y, bl_accel_z, bl_accel_mag, bl_accel_time_temp) = bl_raw_data"
   ]
  }
 ],
 "metadata": {
  "kernelspec": {
   "display_name": "Python 3",
   "language": "python",
   "name": "python3"
  },
  "language_info": {
   "codemirror_mode": {
    "name": "ipython",
    "version": 3
   },
   "file_extension": ".py",
   "mimetype": "text/x-python",
   "name": "python",
   "nbconvert_exporter": "python",
   "pygments_lexer": "ipython3",
   "version": "3.8.8"
  }
 },
 "nbformat": 4,
 "nbformat_minor": 5
}
